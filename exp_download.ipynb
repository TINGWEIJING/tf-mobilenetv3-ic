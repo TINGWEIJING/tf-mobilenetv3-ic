{
 "cells": [
  {
   "cell_type": "code",
   "execution_count": 3,
   "metadata": {},
   "outputs": [],
   "source": [
    "import gdown\n",
    "import os"
   ]
  },
  {
   "cell_type": "code",
   "execution_count": 4,
   "metadata": {},
   "outputs": [
    {
     "name": "stdout",
     "output_type": "stream",
     "text": [
      "/home/ting/Private-Projects/Tensorflow/mobilenetv3-ic\n"
     ]
    }
   ],
   "source": [
    "print(os.getcwd())\n"
   ]
  },
  {
   "cell_type": "code",
   "execution_count": 2,
   "metadata": {},
   "outputs": [
    {
     "name": "stderr",
     "output_type": "stream",
     "text": [
      "Downloading...\n",
      "From: https://drive.google.com/uc?id=1UlOk6EtiaXTHylRUx2mySgvJX9ycoeBp\n",
      "To: /home/ting/Private-Projects/Tensorflow/mobilenetv3-ic/_datasets/raw/RMFD.zip\n",
      "100%|██████████| 640M/640M [00:30<00:00, 20.9MB/s] \n"
     ]
    },
    {
     "data": {
      "text/plain": [
       "'/home/ting/Private-Projects/Tensorflow/mobilenetv3-ic/_datasets/raw/RMFD.zip'"
      ]
     },
     "execution_count": 2,
     "metadata": {},
     "output_type": "execute_result"
    }
   ],
   "source": [
    "# download RMFD.zip\n",
    "id = \"1UlOk6EtiaXTHylRUx2mySgvJX9ycoeBp\"\n",
    "output = '/home/ting/Private-Projects/Tensorflow/mobilenetv3-ic/_datasets/raw/RMFD.zip'\n",
    "gdown.download(id=id, output=output, quiet=False)"
   ]
  },
  {
   "cell_type": "code",
   "execution_count": 7,
   "metadata": {},
   "outputs": [],
   "source": [
    "# unzip\n",
    "!unzip -q './_datasets/raw/RMFD.zip' -d './_datasets/raw/'"
   ]
  },
  {
   "cell_type": "code",
   "execution_count": null,
   "metadata": {},
   "outputs": [],
   "source": [
    "# download part RMFD part 2 & 3 folder\n",
    "# url = \"https://drive.google.com/drive/folders/1kZAIiv34Iav9Vt8BB101FXo4KoEClpx9\"\n",
    "# output = '/home/ting/Private-Projects/Tensorflow/mobilenetv3-ic/_datasets/raw/'\n",
    "# gdown.download_folder(url=url, output=output, quiet=False)"
   ]
  },
  {
   "cell_type": "code",
   "execution_count": null,
   "metadata": {},
   "outputs": [],
   "source": [
    "# unrar parts\n",
    "# !unrar x -e './_datasets/raw/RMFD_part_2.part1.rar' './_datasets/raw/'"
   ]
  },
  {
   "cell_type": "code",
   "execution_count": null,
   "metadata": {},
   "outputs": [],
   "source": [
    "# unrar parts\n",
    "# !unrar x -e './_datasets/raw/RMFD_part_3.part1.rar' './_datasets/raw/'"
   ]
  },
  {
   "cell_type": "code",
   "execution_count": 14,
   "metadata": {},
   "outputs": [
    {
     "name": "stderr",
     "output_type": "stream",
     "text": [
      "Retrieving folder list\n"
     ]
    },
    {
     "name": "stdout",
     "output_type": "stream",
     "text": [
      "Processing file 1uN0a4P0wAFwJLid_r7VHFs0KUcizIRGN MAFA-Label-Test.zip\n",
      "Processing file 1Fu1C1O8ok-Z7r8XSWoTb9yB_2_5w6BDt MAFA-Label-Train.zip\n",
      "Processing file 1jJHdmmscqxvNQ2dxKUrLaHqW3w1Yo_9S test-images.zip\n",
      "Processing file 17bRIiaGyrKLEDQOV2RlqbPQ9TyCZxq9k train-images.zip\n",
      "Building directory structure completed\n"
     ]
    },
    {
     "name": "stderr",
     "output_type": "stream",
     "text": [
      "Retrieving folder list completed\n",
      "Building directory structure\n",
      "Downloading...\n",
      "From: https://drive.google.com/uc?id=1uN0a4P0wAFwJLid_r7VHFs0KUcizIRGN\n",
      "To: /home/ting/Private-Projects/Tensorflow/mobilenetv3-ic/_datasets/raw/MAFA-Label-Test.zip\n",
      "100%|██████████| 182k/182k [00:00<00:00, 7.22MB/s]\n",
      "Downloading...\n",
      "From: https://drive.google.com/uc?id=1Fu1C1O8ok-Z7r8XSWoTb9yB_2_5w6BDt\n",
      "To: /home/ting/Private-Projects/Tensorflow/mobilenetv3-ic/_datasets/raw/MAFA-Label-Train.zip\n",
      "100%|██████████| 947k/947k [00:00<00:00, 16.3MB/s]\n",
      "Downloading...\n",
      "From: https://drive.google.com/uc?id=1jJHdmmscqxvNQ2dxKUrLaHqW3w1Yo_9S\n",
      "To: /home/ting/Private-Projects/Tensorflow/mobilenetv3-ic/_datasets/raw/test-images.zip\n",
      "100%|██████████| 466M/466M [00:25<00:00, 18.0MB/s] \n",
      "Downloading...\n",
      "From: https://drive.google.com/uc?id=17bRIiaGyrKLEDQOV2RlqbPQ9TyCZxq9k\n",
      "To: /home/ting/Private-Projects/Tensorflow/mobilenetv3-ic/_datasets/raw/train-images.zip\n",
      "100%|██████████| 1.96G/1.96G [02:14<00:00, 14.6MB/s]\n",
      "Download completed\n"
     ]
    },
    {
     "data": {
      "text/plain": [
       "['/home/ting/Private-Projects/Tensorflow/mobilenetv3-ic/_datasets/raw/MAFA-Label-Test.zip',\n",
       " '/home/ting/Private-Projects/Tensorflow/mobilenetv3-ic/_datasets/raw/MAFA-Label-Train.zip',\n",
       " '/home/ting/Private-Projects/Tensorflow/mobilenetv3-ic/_datasets/raw/test-images.zip',\n",
       " '/home/ting/Private-Projects/Tensorflow/mobilenetv3-ic/_datasets/raw/train-images.zip']"
      ]
     },
     "execution_count": 14,
     "metadata": {},
     "output_type": "execute_result"
    }
   ],
   "source": [
    "# download Face Mask Label Dataset (FMLD)\n",
    "url = \"https://drive.google.com/drive/folders/1nbtM1n0--iZ3VVbNGhocxbnBGhMau_OG\"\n",
    "output = '/home/ting/Private-Projects/Tensorflow/mobilenetv3-ic/_datasets/raw/'\n",
    "gdown.download_folder(url=url, output=output, quiet=False)"
   ]
  },
  {
   "cell_type": "code",
   "execution_count": 16,
   "metadata": {},
   "outputs": [],
   "source": [
    "# unzip\n",
    "# !unzip -q './_datasets/raw/MAFA-Label-Train.zip' -d './_datasets/raw/'\n",
    "# !unzip -q './_datasets/raw/train-images.zip' -d './_datasets/raw/MAFA_train'\n",
    "!unzip -q './_datasets/raw/test-images.zip' -d './_datasets/raw/MAFA_test'"
   ]
  },
  {
   "cell_type": "code",
   "execution_count": 17,
   "metadata": {},
   "outputs": [
    {
     "name": "stdout",
     "output_type": "stream",
     "text": [
      "--2022-05-16 12:25:08--  https://github.com/borutb-fri/FMLD/blob/main/FMLD_annotations.zip\n",
      "Resolving github.com (github.com)... 20.205.243.166\n",
      "Connecting to github.com (github.com)|20.205.243.166|:443... connected.\n",
      "HTTP request sent, awaiting response... 200 OK\n",
      "Length: unspecified [text/html]\n",
      "Saving to: ‘./_datasets/raw/FMLD_annotations.zip’\n",
      "\n",
      "FMLD_annotations.zi     [ <=>                ] 121.23K  --.-KB/s    in 0.05s   \n",
      "\n",
      "2022-05-16 12:25:09 (2.39 MB/s) - ‘./_datasets/raw/FMLD_annotations.zip’ saved [124139]\n",
      "\n"
     ]
    }
   ],
   "source": [
    "# download MAFA annotation\n",
    "!wget -nd --no-parent -P './_datasets/raw' https://github.com/borutb-fri/FMLD/blob/main/FMLD_annotations.zip"
   ]
  },
  {
   "cell_type": "code",
   "execution_count": 19,
   "metadata": {},
   "outputs": [],
   "source": [
    "!unzip -q './_datasets/raw/FMLD_annotations.zip' -d './_datasets/raw/'"
   ]
  }
 ],
 "metadata": {
  "interpreter": {
   "hash": "72288aa3426af92dd454475f86e7097bbef425587130f0d40c25654ec3263ee3"
  },
  "kernelspec": {
   "display_name": "Python 3.8.10 ('venv': venv)",
   "language": "python",
   "name": "python3"
  },
  "language_info": {
   "codemirror_mode": {
    "name": "ipython",
    "version": 3
   },
   "file_extension": ".py",
   "mimetype": "text/x-python",
   "name": "python",
   "nbconvert_exporter": "python",
   "pygments_lexer": "ipython3",
   "version": "3.8.10"
  },
  "orig_nbformat": 4
 },
 "nbformat": 4,
 "nbformat_minor": 2
}
