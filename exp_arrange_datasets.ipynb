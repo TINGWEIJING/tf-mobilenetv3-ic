{
 "cells": [
  {
   "cell_type": "code",
   "execution_count": 42,
   "metadata": {},
   "outputs": [],
   "source": [
    "import os\n",
    "import random\n",
    "import shutil\n",
    "import xml.etree.ElementTree as ET\n",
    "from pathlib import Path\n",
    "\n",
    "import matplotlib.patches as patches\n",
    "import matplotlib.pyplot as plt\n",
    "import numpy as np\n",
    "import scipy.io\n",
    "from PIL import Image\n",
    "from tqdm import tqdm\n"
   ]
  },
  {
   "cell_type": "code",
   "execution_count": 3,
   "metadata": {},
   "outputs": [
    {
     "name": "stdout",
     "output_type": "stream",
     "text": [
      "/home/ting/Private-Projects/Tensorflow/mobilenetv3-ic\n"
     ]
    }
   ],
   "source": [
    "WORK_PATH = Path.cwd()\n",
    "print(WORK_PATH)"
   ]
  },
  {
   "cell_type": "code",
   "execution_count": 9,
   "metadata": {},
   "outputs": [],
   "source": [
    "INTERMEDIATE_DIR_PATH = WORK_PATH / '_datasets' / 'filter'\n",
    "\n",
    "# dataset source\n",
    "FILTER_RMFD_DIR_PATH = INTERMEDIATE_DIR_PATH / 'RMFD'\n",
    "FILTER_FMLD_DIR_PATH = INTERMEDIATE_DIR_PATH / 'FMLD'\n",
    "\n",
    "# train or test\n",
    "FILTER_TRAIN_RMFD_DIR_PATH = FILTER_RMFD_DIR_PATH / 'train'\n",
    "FILTER_TEST_RMFD_DIR_PATH = FILTER_RMFD_DIR_PATH / 'test'\n",
    "\n",
    "FILTER_TRAIN_FMLD_DIR_PATH = FILTER_FMLD_DIR_PATH / 'train'\n",
    "FILTER_TEST_FMLD_DIR_PATH = FILTER_FMLD_DIR_PATH / 'test'\n",
    "\n",
    "# masked or unmasked classes\n",
    "FILTER_TRAIN_MASKED_RMFD_DIR_PATH = FILTER_TRAIN_RMFD_DIR_PATH / 'masked'\n",
    "FILTER_TRAIN_UNMASKED_RMFD_DIR_PATH = FILTER_TRAIN_RMFD_DIR_PATH / 'unmasked'\n",
    "\n",
    "FILTER_TEST_MASKED_RMFD_DIR_PATH = FILTER_TEST_RMFD_DIR_PATH / 'masked'\n",
    "FILTER_TEST_UNMASKED_RMFD_DIR_PATH = FILTER_TEST_RMFD_DIR_PATH / 'unmasked'\n",
    "\n",
    "FILTER_TRAIN_MASKED_FMLD_DIR_PATH = FILTER_TRAIN_FMLD_DIR_PATH / 'masked'\n",
    "FILTER_TRAIN_UNMASKED_FMLD_DIR_PATH = FILTER_TRAIN_FMLD_DIR_PATH / 'unmasked'\n",
    "\n",
    "FILTER_TEST_MASKED_FMLD_DIR_PATH = FILTER_TEST_FMLD_DIR_PATH / 'masked'\n",
    "FILTER_TEST_UNMASKED_FMLD_DIR_PATH = FILTER_TEST_FMLD_DIR_PATH / 'unmasked'\n",
    "\n",
    "# create\n",
    "FILTER_TRAIN_MASKED_RMFD_DIR_PATH.mkdir(parents=True, exist_ok=True)\n",
    "FILTER_TRAIN_UNMASKED_RMFD_DIR_PATH.mkdir(parents=True, exist_ok=True)\n",
    "FILTER_TEST_MASKED_RMFD_DIR_PATH.mkdir(parents=True, exist_ok=True)\n",
    "FILTER_TEST_UNMASKED_RMFD_DIR_PATH.mkdir(parents=True, exist_ok=True)\n",
    "FILTER_TRAIN_MASKED_FMLD_DIR_PATH.mkdir(parents=True, exist_ok=True)\n",
    "FILTER_TRAIN_UNMASKED_FMLD_DIR_PATH.mkdir(parents=True, exist_ok=True)\n",
    "FILTER_TEST_MASKED_FMLD_DIR_PATH.mkdir(parents=True, exist_ok=True)\n",
    "FILTER_TEST_UNMASKED_FMLD_DIR_PATH.mkdir(parents=True, exist_ok=True)\n"
   ]
  },
  {
   "cell_type": "markdown",
   "metadata": {},
   "source": [
    "## RMFD"
   ]
  },
  {
   "cell_type": "code",
   "execution_count": 25,
   "metadata": {},
   "outputs": [
    {
     "name": "stdout",
     "output_type": "stream",
     "text": [
      "/home/ting/Private-Projects/Tensorflow/mobilenetv3-ic/_datasets/raw/self-built-masked-face-recognition-dataset\n"
     ]
    }
   ],
   "source": [
    "# RMFD\n",
    "RMFD_PARENT_PATH = Path('./_datasets/raw/self-built-masked-face-recognition-dataset')\n",
    "print(RMFD_PARENT_PATH.absolute())"
   ]
  },
  {
   "cell_type": "code",
   "execution_count": 26,
   "metadata": {},
   "outputs": [
    {
     "name": "stdout",
     "output_type": "stream",
     "text": [
      "Num of MASKED img:2203\n"
     ]
    }
   ],
   "source": [
    "# explore\n",
    "MASKED_RMFD_PATH = RMFD_PARENT_PATH / 'AFDB_masked_face_dataset'\n",
    "num_of_img = 0\n",
    "for child_path in MASKED_RMFD_PATH.iterdir():\n",
    "    for img_path in child_path.iterdir():\n",
    "        num_of_img+=1\n",
    "\n",
    "print(f'Num of MASKED img:{num_of_img}')"
   ]
  },
  {
   "cell_type": "code",
   "execution_count": 40,
   "metadata": {},
   "outputs": [
    {
     "name": "stdout",
     "output_type": "stream",
     "text": [
      "Num of NON MASKED img:90468\n"
     ]
    }
   ],
   "source": [
    "# explore\n",
    "NON_MASKED_RMFD_PATH = RMFD_PARENT_PATH / 'AFDB_face_dataset'\n",
    "num_of_img = 0\n",
    "for child_path in NON_MASKED_RMFD_PATH.iterdir():\n",
    "    for img_path in child_path.iterdir():\n",
    "        num_of_img+=1\n",
    "\n",
    "print(f'Num of NON MASKED img:{num_of_img}')"
   ]
  },
  {
   "cell_type": "code",
   "execution_count": 38,
   "metadata": {},
   "outputs": [],
   "source": [
    "# copy masked to filter\n",
    "for child_path in MASKED_RMFD_PATH.iterdir():\n",
    "    label_count = 1\n",
    "    for img_path in child_path.iterdir():\n",
    "        dst_path = FILTER_TRAIN_MASKED_RMFD_DIR_PATH / f'{img_path.parent.name}_{label_count:02d}{img_path.suffix}'\n",
    "        shutil.copy2(img_path, dst_path)\n",
    "        label_count += 1\n",
    "    \n"
   ]
  },
  {
   "cell_type": "code",
   "execution_count": 41,
   "metadata": {},
   "outputs": [],
   "source": [
    "# copy unmasked to filter\n",
    "for child_path in NON_MASKED_RMFD_PATH.iterdir():\n",
    "    label_count = 1\n",
    "    for img_path in child_path.iterdir():\n",
    "        dst_path = FILTER_TRAIN_UNMASKED_RMFD_DIR_PATH / f'{img_path.parent.name}_{label_count:02d}{img_path.suffix}'\n",
    "        shutil.copy2(img_path, dst_path)\n",
    "        label_count += 1"
   ]
  },
  {
   "cell_type": "markdown",
   "metadata": {},
   "source": [
    "## FMLD"
   ]
  },
  {
   "cell_type": "code",
   "execution_count": 18,
   "metadata": {},
   "outputs": [
    {
     "name": "stdout",
     "output_type": "stream",
     "text": [
      "/home/ting/Private-Projects/Tensorflow/mobilenetv3-ic/_datasets/raw/MAFA_train/images\n"
     ]
    }
   ],
   "source": [
    "# FMLD_train & test\n",
    "FMLD_TRAIN_PARENT_DIR_PATH = Path('./_datasets/raw/MAFA_train/images')\n",
    "FMLD_TEST_PARENT_DIR_PATH = Path('./_datasets/raw/MAFA_test/images')\n",
    "FMLD_ANNOTATION_DIR_PATH = Path('./_datasets/raw/FMLD_annotations')\n",
    "FMLD_TRAIN_ANNOTATION_DIR_PATH = FMLD_ANNOTATION_DIR_PATH / 'train'\n",
    "FMLD_TEST_ANNOTATION_DIR_PATH = FMLD_ANNOTATION_DIR_PATH / 'test'\n",
    "print(FMLD_TRAIN_PARENT_DIR_PATH.absolute())"
   ]
  },
  {
   "cell_type": "code",
   "execution_count": 19,
   "metadata": {},
   "outputs": [
    {
     "name": "stdout",
     "output_type": "stream",
     "text": [
      "Num of FMLD TRAIN img:25876\n",
      "Num of FMLD TEST img:4935\n"
     ]
    }
   ],
   "source": [
    "# collect train & test image file name\n",
    "FMLD_train_img_num = 0\n",
    "FMLD_train_img_names = []\n",
    "FMLD_train_img_stem_names = []\n",
    "FMLD_test_img_num = 0\n",
    "FMLD_test_img_names = []\n",
    "FMLD_test_img_stem_names = []\n",
    "\n",
    "for child_path in FMLD_TRAIN_PARENT_DIR_PATH.iterdir():\n",
    "    FMLD_train_img_names.append(child_path.name)\n",
    "    FMLD_train_img_stem_names.append(child_path.stem)\n",
    "\n",
    "    FMLD_train_img_num+=1\n",
    "\n",
    "for child_path in FMLD_TEST_PARENT_DIR_PATH.iterdir():\n",
    "    FMLD_test_img_names.append(child_path.name)\n",
    "    FMLD_test_img_stem_names.append(child_path.stem)\n",
    "\n",
    "    FMLD_test_img_num+=1\n",
    "\n",
    "print(f'Num of FMLD TRAIN img:{FMLD_train_img_num}')\n",
    "print(f'Num of FMLD TEST img:{FMLD_test_img_num}')"
   ]
  },
  {
   "cell_type": "code",
   "execution_count": 20,
   "metadata": {},
   "outputs": [
    {
     "name": "stdout",
     "output_type": "stream",
     "text": [
      "Num of FMLD TRAIN annotation file:25876\n",
      "Num of FMLD TEST annotation file:4935\n"
     ]
    }
   ],
   "source": [
    "# collect FMLD train & test annotation filename\n",
    "FMLD_train_annot_file_num = 0\n",
    "FMLD_train_annot_file_names = []\n",
    "FMLD_train_img_stem_names_set = set(FMLD_train_img_stem_names)\n",
    "FMLD_test_annot_file_num = 0\n",
    "FMLD_test_annot_file_names = []\n",
    "FMLD_test_img_stem_names_set = set(FMLD_test_img_stem_names)\n",
    "\n",
    "for child_path in FMLD_TRAIN_ANNOTATION_DIR_PATH.iterdir():\n",
    "    if child_path.stem in FMLD_train_img_stem_names_set:\n",
    "        FMLD_train_annot_file_names.append(child_path.name)\n",
    "        FMLD_train_annot_file_num += 1\n",
    "\n",
    "for child_path in FMLD_TEST_ANNOTATION_DIR_PATH.iterdir():\n",
    "    if child_path.stem in FMLD_test_img_stem_names_set:\n",
    "        FMLD_test_annot_file_names.append(child_path.name)\n",
    "        FMLD_test_annot_file_num += 1\n",
    "\n",
    "print(f'Num of FMLD TRAIN annotation file:{FMLD_train_annot_file_num}')\n",
    "print(f'Num of FMLD TEST annotation file:{FMLD_test_annot_file_num}')\n"
   ]
  },
  {
   "cell_type": "code",
   "execution_count": 17,
   "metadata": {},
   "outputs": [
    {
     "name": "stdout",
     "output_type": "stream",
     "text": [
      "Processed 0 files\n",
      "Processed 1000 files\n",
      "Processed 2000 files\n",
      "Processed 3000 files\n",
      "Processed 4000 files\n",
      "Processed 5000 files\n",
      "Processed 6000 files\n",
      "Processed 7000 files\n",
      "Processed 8000 files\n",
      "Processed 9000 files\n",
      "Processed 10000 files\n",
      "Processed 11000 files\n",
      "Processed 12000 files\n",
      "Processed 13000 files\n",
      "Processed 14000 files\n",
      "Processed 15000 files\n",
      "Processed 16000 files\n",
      "Processed 17000 files\n",
      "Processed 18000 files\n",
      "Processed 19000 files\n",
      "Processed 20000 files\n",
      "Processed 21000 files\n",
      "Processed 22000 files\n",
      "Processed 23000 files\n",
      "Processed 24000 files\n",
      "Processed 25000 files\n",
      "MAFA_train_unmasked_num: 3645\n",
      "MAFA_train_masked_num: 24603\n"
     ]
    }
   ],
   "source": [
    "# exp read xml file\n",
    "FMLD_train_unmasked_num = 0\n",
    "FMLD_train_masked_num = 0\n",
    "\n",
    "for i in range(len(FMLD_train_annot_file_names)):\n",
    "    xml_file = str(FMLD_TRAIN_ANNOTATION_DIR_PATH / FMLD_train_annot_file_names[i])\n",
    "    xml_tree = ET.parse(xml_file)\n",
    "    xml_root = xml_tree.getroot()\n",
    "    filename = xml_root.find('filename').text\n",
    "    filestem = Path(filename).stem\n",
    "    img_file = str(FMLD_TRAIN_PARENT_DIR_PATH / filename)\n",
    "\n",
    "    img_pil = Image.open(img_file)\n",
    "    if img_pil.mode in (\"RGBA\", \"P\"):\n",
    "        img_pil = img_pil.convert(\"RGB\")\n",
    "    img_np = np.asarray(img_pil, dtype=\"int32\")\n",
    "    h, w, _ = img_np.shape\n",
    "    # print(f'xml_file: {xml_file}')\n",
    "    # print(f'img_file: {img_file}')\n",
    "    # print(f'w: {w}')\n",
    "    # print(f'h: {h}')\n",
    "\n",
    "    if i % 1000 == 0:\n",
    "        print(f'Processed {i} files')\n",
    "\n",
    "    label_count = 1\n",
    "    for ii, boxes in enumerate(xml_root.iter('object'), start=1):\n",
    "        name = boxes.find('name').text\n",
    "\n",
    "        # filter class\n",
    "        if name == 'unmasked_face':\n",
    "            class_label = 'unmasked'\n",
    "            FMLD_train_unmasked_num += 1\n",
    "        elif name == 'masked_face':\n",
    "            class_label = 'masked'\n",
    "            FMLD_train_masked_num += 1\n",
    "\n",
    "        else:\n",
    "            continue\n",
    "\n",
    "        ymin, xmin, ymax, xmax = None, None, None, None\n",
    "\n",
    "        xmin = max(0, int(float(boxes.find(\"bndbox/xmin\").text)))\n",
    "        ymin = max(0, int(float(boxes.find(\"bndbox/ymin\").text)))\n",
    "        xmax = min(w, int(float(boxes.find(\"bndbox/xmax\").text)))\n",
    "        ymax = min(h, int(float(boxes.find(\"bndbox/ymax\").text)))\n",
    "\n",
    "        # (left x, top y, right x, bottom y)\n",
    "        crop_img_pil = img_pil.crop((xmin, ymin, xmax, ymax))\n",
    "        crop_img_pil.save(f'{str(FILTER_TRAIN_FMLD_DIR_PATH)}/{class_label}/{filestem}_{label_count:02d}.jpg', quality=100, subsampling=0)\n",
    "        label_count += 1\n",
    "        # print(f'name: {name}')\n",
    "        # print(f'xmin: {xmin}')\n",
    "        # print(f'ymin: {ymin}')\n",
    "        # print(f'xmax: {xmax}')\n",
    "        # print(f'ymax: {ymax}')\n",
    "print(f'FMLD_train_unmasked_num: {FMLD_train_unmasked_num}')\n",
    "print(f'FMLD_train_masked_num: {FMLD_train_masked_num}')\n"
   ]
  },
  {
   "cell_type": "code",
   "execution_count": 21,
   "metadata": {},
   "outputs": [
    {
     "name": "stdout",
     "output_type": "stream",
     "text": [
      "Processed 0 files\n",
      "Processed 1000 files\n",
      "Processed 2000 files\n",
      "Processed 3000 files\n",
      "Processed 4000 files\n",
      "FMLD_test_unmasked_num: 2391\n",
      "FMLD_test_masked_num: 4958\n"
     ]
    }
   ],
   "source": [
    "# exp read xml file\n",
    "FMLD_test_unmasked_num = 0\n",
    "FMLD_test_masked_num = 0\n",
    "\n",
    "for i in range(len(FMLD_test_annot_file_names)):\n",
    "    xml_file = str(FMLD_TEST_ANNOTATION_DIR_PATH / FMLD_test_annot_file_names[i])\n",
    "    xml_tree = ET.parse(xml_file)\n",
    "    xml_root = xml_tree.getroot()\n",
    "    filename = xml_root.find('filename').text\n",
    "    filestem = Path(filename).stem\n",
    "    img_file = str(FMLD_TEST_PARENT_DIR_PATH / filename)\n",
    "\n",
    "    img_pil = Image.open(img_file)\n",
    "    if img_pil.mode in (\"RGBA\", \"P\"):\n",
    "        img_pil = img_pil.convert(\"RGB\")\n",
    "    img_np = np.asarray(img_pil, dtype=\"int32\")\n",
    "    h, w, _ = img_np.shape\n",
    "    # print(f'xml_file: {xml_file}')\n",
    "    # print(f'img_file: {img_file}')\n",
    "    # print(f'w: {w}')\n",
    "    # print(f'h: {h}')\n",
    "\n",
    "    if i % 1000 == 0:\n",
    "        print(f'Processed {i} files')\n",
    "\n",
    "    label_count = 1\n",
    "    for ii, boxes in enumerate(xml_root.iter('object'), start=1):\n",
    "        name = boxes.find('name').text\n",
    "\n",
    "        # filter class\n",
    "        if name == 'unmasked_face':\n",
    "            class_label = 'unmasked'\n",
    "            FMLD_test_unmasked_num += 1\n",
    "        elif name == 'masked_face':\n",
    "            class_label = 'masked'\n",
    "            FMLD_test_masked_num += 1\n",
    "\n",
    "        else:\n",
    "            continue\n",
    "\n",
    "        ymin, xmin, ymax, xmax = None, None, None, None\n",
    "\n",
    "        xmin = max(0, int(float(boxes.find(\"bndbox/xmin\").text)))\n",
    "        ymin = max(0, int(float(boxes.find(\"bndbox/ymin\").text)))\n",
    "        xmax = min(w, int(float(boxes.find(\"bndbox/xmax\").text)))\n",
    "        ymax = min(h, int(float(boxes.find(\"bndbox/ymax\").text)))\n",
    "\n",
    "        # (left x, top y, right x, bottom y)\n",
    "        crop_img_pil = img_pil.crop((xmin, ymin, xmax, ymax))\n",
    "        crop_img_pil.save(f'{str(FILTER_TEST_FMLD_DIR_PATH)}/{class_label}/{filestem}_{label_count:02d}.jpg', quality=100, subsampling=0)\n",
    "        label_count += 1\n",
    "        # print(f'name: {name}')\n",
    "        # print(f'xmin: {xmin}')\n",
    "        # print(f'ymin: {ymin}')\n",
    "        # print(f'xmax: {xmax}')\n",
    "        # print(f'ymax: {ymax}')\n",
    "print(f'FMLD_test_unmasked_num: {FMLD_test_unmasked_num}')\n",
    "print(f'FMLD_test_masked_num: {FMLD_test_masked_num}')\n"
   ]
  },
  {
   "cell_type": "markdown",
   "metadata": {},
   "source": [
    "## Sampling"
   ]
  },
  {
   "cell_type": "code",
   "execution_count": 48,
   "metadata": {},
   "outputs": [],
   "source": [
    "SAMPLED_DIR_PATH = WORK_PATH / '_datasets' / 'sampled'\n",
    "\n",
    "# train or test\n",
    "SAMPLED_TRAIN_DIR_PATH = SAMPLED_DIR_PATH / 'train'\n",
    "SAMPLED_TEST_DIR_PATH = SAMPLED_DIR_PATH / 'test'\n",
    "\n",
    "# masked or unmasked classes\n",
    "SAMPLED_TRAIN_MASKED_DIR_PATH = SAMPLED_TRAIN_DIR_PATH / 'masked'\n",
    "SAMPLED_TRAIN_UNMASKED_DIR_PATH = SAMPLED_TRAIN_DIR_PATH / 'unmasked'\n",
    "\n",
    "SAMPLED_TEST_MASKED_DIR_PATH = SAMPLED_TEST_DIR_PATH / 'masked'\n",
    "SAMPLED_TEST_UNMASKED_DIR_PATH = SAMPLED_TEST_DIR_PATH / 'unmasked'\n",
    "\n",
    "# create\n",
    "SAMPLED_TRAIN_MASKED_DIR_PATH.mkdir(parents=True, exist_ok=True)\n",
    "SAMPLED_TRAIN_UNMASKED_DIR_PATH.mkdir(parents=True, exist_ok=True)\n",
    "SAMPLED_TEST_MASKED_DIR_PATH.mkdir(parents=True, exist_ok=True)\n",
    "SAMPLED_TEST_UNMASKED_DIR_PATH.mkdir(parents=True, exist_ok=True)"
   ]
  },
  {
   "cell_type": "code",
   "execution_count": 49,
   "metadata": {},
   "outputs": [
    {
     "name": "stdout",
     "output_type": "stream",
     "text": [
      "filter_train_masked_RMFD_num: 2203\n",
      "filter_train_masked_FMLD_num: 24603\n",
      "filter_train_unmasked_RMFD_num: 90468\n",
      "filter_train_unmasked_FMLD_num: 3645\n",
      "filter_test_masked_RMFD_num: 0\n",
      "filter_test_masked_FMLD_num: 4958\n",
      "filter_test_unmasked_RMFD_num: 0\n",
      "filter_test_unmasked_FMLD_num: 2391\n"
     ]
    }
   ],
   "source": [
    "# collect frequency of each train test classes\n",
    "filter_train_masked_RMFD_num = len(list(FILTER_TRAIN_MASKED_RMFD_DIR_PATH.iterdir()))\n",
    "filter_train_unmasked_RMFD_num = len(list(FILTER_TRAIN_UNMASKED_RMFD_DIR_PATH.iterdir()))\n",
    "filter_test_masked_RMFD_num = len(list(FILTER_TEST_MASKED_RMFD_DIR_PATH.iterdir()))\n",
    "filter_test_unmasked_RMFD_num = len(list(FILTER_TEST_UNMASKED_RMFD_DIR_PATH.iterdir()))\n",
    "\n",
    "filter_train_masked_FMLD_num = len(list(FILTER_TRAIN_MASKED_FMLD_DIR_PATH.iterdir()))\n",
    "filter_train_unmasked_FMLD_num = len(list(FILTER_TRAIN_UNMASKED_FMLD_DIR_PATH.iterdir()))\n",
    "filter_test_masked_FMLD_num = len(list(FILTER_TEST_MASKED_FMLD_DIR_PATH.iterdir()))\n",
    "filter_test_unmasked_FMLD_num = len(list(FILTER_TEST_UNMASKED_FMLD_DIR_PATH.iterdir()))\n",
    "\n",
    "print(f'filter_train_masked_RMFD_num: {filter_train_masked_RMFD_num}')\n",
    "print(f'filter_train_masked_FMLD_num: {filter_train_masked_FMLD_num}')\n",
    "print(f'filter_train_unmasked_RMFD_num: {filter_train_unmasked_RMFD_num}')\n",
    "print(f'filter_train_unmasked_FMLD_num: {filter_train_unmasked_FMLD_num}')\n",
    "\n",
    "print(f'filter_test_masked_RMFD_num: {filter_test_masked_RMFD_num}')\n",
    "print(f'filter_test_masked_FMLD_num: {filter_test_masked_FMLD_num}')\n",
    "print(f'filter_test_unmasked_RMFD_num: {filter_test_unmasked_RMFD_num}')\n",
    "print(f'filter_test_unmasked_FMLD_num: {filter_test_unmasked_FMLD_num}')"
   ]
  },
  {
   "cell_type": "markdown",
   "metadata": {},
   "source": [
    "- Target train\n",
    "  - masked: 26806 (just combine)\n",
    "  - unmasked: 26806 (combine then shuffle then prune)\n",
    "- Target test\n",
    "  - masked: 2391 (shuffle then prune)\n",
    "  - unmasked: 2391"
   ]
  },
  {
   "cell_type": "code",
   "execution_count": 51,
   "metadata": {},
   "outputs": [
    {
     "name": "stdout",
     "output_type": "stream",
     "text": [
      "ts_train_masked_imgs: 26806\n",
      "ts_train_unmasked_imgs: 26806\n",
      "ts_test_masked_imgs: 2391\n",
      "ts_test_unmasked_imgs: 2391\n"
     ]
    }
   ],
   "source": [
    "random.seed(42)\n",
    "ts_train_masked_imgs = [path.absolute() for path in FILTER_TRAIN_MASKED_RMFD_DIR_PATH.iterdir()] \\\n",
    "    + [path.absolute() for path in FILTER_TRAIN_MASKED_FMLD_DIR_PATH.iterdir()]\n",
    "\n",
    "\n",
    "ts_train_unmasked_imgs = [path.absolute() for path in FILTER_TRAIN_UNMASKED_RMFD_DIR_PATH.iterdir()] \\\n",
    "    + [path.absolute() for path in FILTER_TRAIN_UNMASKED_FMLD_DIR_PATH.iterdir()]\n",
    "random.shuffle(ts_train_unmasked_imgs)\n",
    "ts_train_unmasked_imgs = ts_train_unmasked_imgs[:26806]\n",
    "\n",
    "ts_test_masked_imgs = [path.absolute() for path in FILTER_TEST_MASKED_FMLD_DIR_PATH.iterdir()]\n",
    "random.shuffle(ts_test_masked_imgs)\n",
    "ts_test_masked_imgs = ts_test_masked_imgs[:2391]\n",
    "\n",
    "ts_test_unmasked_imgs = [path.absolute() for path in FILTER_TEST_UNMASKED_FMLD_DIR_PATH.iterdir()]\n",
    "\n",
    "print(f'ts_train_masked_imgs: {len(ts_train_masked_imgs)}')\n",
    "print(f'ts_train_unmasked_imgs: {len(ts_train_unmasked_imgs)}')\n",
    "print(f'ts_test_masked_imgs: {len(ts_test_masked_imgs)}')\n",
    "print(f'ts_test_unmasked_imgs: {len(ts_test_unmasked_imgs)}')\n"
   ]
  },
  {
   "cell_type": "code",
   "execution_count": 53,
   "metadata": {},
   "outputs": [
    {
     "name": "stdout",
     "output_type": "stream",
     "text": [
      "/home/ting/Private-Projects/Tensorflow/mobilenetv3-ic/_datasets/filter/FMLD/test/unmasked/test_00003747_02.jpg\n",
      "<class 'pathlib.PosixPath'>\n"
     ]
    }
   ],
   "source": [
    "print(ts_test_unmasked_imgs[0])\n",
    "print(type(ts_test_unmasked_imgs[0]))"
   ]
  },
  {
   "cell_type": "code",
   "execution_count": 55,
   "metadata": {},
   "outputs": [],
   "source": [
    "# copy to sampled folder\n",
    "for src_path in ts_train_masked_imgs:\n",
    "    dst_path = SAMPLED_TRAIN_MASKED_DIR_PATH / src_path.name\n",
    "    shutil.copy2(src_path, dst_path)\n",
    "\n",
    "for src_path in ts_train_unmasked_imgs:\n",
    "    dst_path = SAMPLED_TRAIN_UNMASKED_DIR_PATH / src_path.name\n",
    "    shutil.copy2(src_path, dst_path)\n",
    "\n",
    "for src_path in ts_test_masked_imgs:\n",
    "    dst_path = SAMPLED_TEST_MASKED_DIR_PATH / src_path.name\n",
    "    shutil.copy2(src_path, dst_path)\n",
    "\n",
    "for src_path in ts_test_unmasked_imgs:\n",
    "    dst_path = SAMPLED_TEST_UNMASKED_DIR_PATH / src_path.name\n",
    "    shutil.copy2(src_path, dst_path)\n"
   ]
  },
  {
   "cell_type": "code",
   "execution_count": null,
   "metadata": {},
   "outputs": [],
   "source": [
    "# zip folder\n",
    "## cd mobilenetv3-ic/_datasets/sampled\n",
    "## zip -r face_mask_datasets.zip ./"
   ]
  }
 ],
 "metadata": {
  "interpreter": {
   "hash": "72288aa3426af92dd454475f86e7097bbef425587130f0d40c25654ec3263ee3"
  },
  "kernelspec": {
   "display_name": "Python 3.8.10 ('venv': venv)",
   "language": "python",
   "name": "python3"
  },
  "language_info": {
   "codemirror_mode": {
    "name": "ipython",
    "version": 3
   },
   "file_extension": ".py",
   "mimetype": "text/x-python",
   "name": "python",
   "nbconvert_exporter": "python",
   "pygments_lexer": "ipython3",
   "version": "3.8.10"
  },
  "orig_nbformat": 4
 },
 "nbformat": 4,
 "nbformat_minor": 2
}
